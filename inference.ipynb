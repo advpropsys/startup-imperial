{
 "cells": [
  {
   "cell_type": "code",
   "execution_count": 1,
   "metadata": {},
   "outputs": [],
   "source": [
    "import onnxruntime \n",
    "onnx_session = onnxruntime.InferenceSession(\n",
    "    'trfs-model.onnx', )"
   ]
  },
  {
   "cell_type": "code",
   "execution_count": 275,
   "metadata": {},
   "outputs": [
    {
     "data": {
      "text/plain": [
       "'We believe that entrepreneurs will make the world better for us alL  Ark makes the world better for entrepreneurs.    \\x0c  \\x0cFinancing from Financing from  institutions with VCs aimed at ancient methods high risk           Enables growth po yooe Dee Uae ciao perme     | Unable bo fund teh risk & baliible |             \\x0c  \\x0c     \\x0c  \\x0c  \\x0cArk Investor presentation  Ark — The Precision Finance Company     Precise tech plotfonmn Pracise landing model  Tech piotfornn with bow Ged Preven landing model thet has: P| integrations to large scale, found mispriced risk in the  row dolosets enables Al morkek Longe customer pigetinen Powered predictive modelling built in. 2 months bn stealth mode,  ond rak OsSessments.  The Preceion Finance Company        Precise funding platform  ‘Scotobie funding. Signeficant credit focilities secured ot launch, sanobting profitgble loniding from  day 2. \\x0cInvestor preaenootion  pAN  |  businesses to graw faster, enables owners to maintain control, and  aid Ark is a precision financing campany that empowers technology reduces risk for investors.     Ark uses its artificial intelligence platform, the Ark Intelligence Machine (AIM), to precisely analyze a company\\'s business health and design custom, dynamic loans with fair terms. Ark shares daily  ra TT updates of its analytics and insights in a borrower dashboard and  a = = through rest APIs for continuous business optimization.  We tear down the financial barriers of the past, to empower more entrepreneurs to make the world better for all.  ¥  Tha Prection Fimance Company a    \\x0cArk  Our Founders  Three different backgrounds with one similar drive;  To build things that actually work.        Oliver Hildebrancit ceo  Oliver built and sooled six companies, of which four are fintechs, They turn over €100 million with 568 employees.  And he is just getting started - Oliver is 29  Henrik Landgren  cPTo  Henrik built Spatity’s onolyties tec, the Al- Investment plotfonm Motherbrain at EQT and the dota driven VC funds EQT Ventures & Growth.  From scratch.  Axel Bruzelius  ooo  Axel built tha first debt driven startup unit within a fmeojor bank ot Nordea, Hos experiance from lending to hundreds of tech companies,  Without any crociit losses, \\x0cArk Ianto prewentation  The Tech Leadership     Henrik Landgren  CPTO & Founder  Henrik built Spotify\\'s analytics team, the Al- investment platform Motherbrain ot EQT and the dota driven WC fund EQT Growth,  From seratch,  Elin Backlund  cTo  Elin is a senior full stack developer ond wees Head of Motherbrain at BOT. where she lod a 25 people dev team.  She\\'s also on Forbes 30 Linder 30 list for Tech,  Jens Larsson  Head of Analytics  jens headed the anotytics team at Tink, He is a moster of combining tech, machine learning and business.  Prig¢g 16 Tink, ho Wweos alsa leading data teams at Spotity ond Googie \\x0cArk  The Finance Leadership  WCAG PHP     Axel Bruzelius  000 & Founchor  ooo built the first debt driven startup unit within a major bank ot Mordec. Hes experience from lending to hundreds of tach companies.  Without any credit losses,  Julia Erhareit  CFO  fullo has been Head of Debt investor Rotations at SEB, with annual funcroising exceeding €10bn.  Sho also bead Business Development ond wos Chief Retoil Bonk ot Holst Finance     Tim Bisonder  Heod of Credit  Tim has over 20 yeors of experience within the financial Industry os Head of Analytics at Svwrecdon\\'s moin credit bureau UC ond at Morginolen Bonk.  He was also Heod of Crecit at the Swedish mortgage bonk Skandia  Anders Hising  Heod of Structuring  Anders has 14 years of experiance working with credit and corporate analysis, debt structuring and project looding debt transactions. Most recently Ine lad leverage finance and corporate debt transactions ot Nordea \\x0cArk Iwasier presentation  Ark tech platform - Next generation tech driven funding in real time  —- Proactive date driven lead sourcing of strang Connected Ark loans = Real, lech ontreprendurs.  time automated granular data fom eushorsars vie APIs.        ieing on nes a ee Detailed identification, assessment and pricing of  aoe ———\"_ underlying profitability, Aes o= o=                       603 o=- \"= Connected Ark loans monitored in real time, quiding bane « s— * to solid Qrawth (deshiboards, alerts, bots, APIs), » Ak Intelligence Machine significantly reducing downside. LANA           Alqpowerod date plotioen with best possible pradictrvn modeling of compony dota, — Continuous R&D of new financial products,     The Precaion Finance Company 13 \\x0c  \\x0cArk Iweiter presentation ... OF Straight to  How to connect to AiM ie  (Os cart Derrek nbeegra te be  Poyment transactions Marketing spend events Engogemant events eee eT fet partie = = fg orev tg one c: Lg ony ps % A o t= as + eee bewue te pee keel. ere —_ weg or pee amazon mee f Comin prekeairy par en Tere Lewy Qi a = — — = ine tovetcon, === - -o- baateuaeel semTs ave : : anal se eae crecrdasieal | amazon  Ost = = Bag Cory  Contract avents Orders & inventory Accounting events 7 = = = (Cg, romp Ig moyen Pb erento — —- S aerate _ pat rte ora rian = << = - bee eary ona meine, cop. sabes = ond oer aes crerga earn tor toe = = ar tree Peeagena was = ec cere — ~—— —= com che ee eo, ett Te  Arl The Procition Finance Company \\x0cArk  Ietater presentation  AiM uses Al to dynamically identify and predict granular business performance  = Direct, roal tina access to now event dota ollows for precise machine learning at user or micro-cohort level. Reaching S8%+ occunocy of 12 month LTV predictions.  « Forward-looking metrics based on customer bahoviour trends.  « Row event-dato mokes connection fast and provides neutral reference point in projections     The Proceso F     nance Compary \\x0cDEMO TIME  ‘Tha Precision Finance Company \\x0cArk Wrensiy Greer  First two product launches cover long term growth loans and short term marketplace loans     Growth Loan  Long term non-dilutive loon, based on real time doto ond Cotered to company’s actual need and repayment profile  Typical customers are SaoS-companies of others with stable income and underlying profitability  ©6045 5.           Marketplace Forward  Automated loan offered to game developers ond others who sell through marketplaces like Appstore or Steam  Product offers cash upfront against income that is paid out from-e.g. Apple in 72. cays  Aainvamon = Compelion = Companaenin  \"eoce.     The Preceion Finance Company    \\x0cWe PAT el in entr 8) So fe you! j  ee do this together!    \\x0cCet a)     Raising ca 15 MEUR Seed to take on the next phase of our mission  We look for investors who can help with strong complementary networks to great entrepreneurs across all verticals (B2C, Saas, D2C, Ecom, gaming) to fast-track our European expansion              Lead investor(s)  ts eet RON SAB 3     Existing angels fe) pemce| ce]  ai ta)     Selected new hand-  picked angels  2-4 MEUR  CMR he lars  elute epee urged 3  Sulu Cai pe) e oa)  markets  Peescelelieleicms Be leita liug) Pe lisiets grees eee ias  terest  Pes eeii-me lee ined g  etoile 4           Ue ee ane ea    \\x0cWe exist to tear down barriers and unleash the power of entrepreneurship, with the  world\\'s best funding solutions for tech entrepreneurs.      Hil Caen 2a a a eae Erie : \\x0c'"
      ]
     },
     "execution_count": 275,
     "metadata": {},
     "output_type": "execute_result"
    }
   ],
   "source": [
    "### PDF\n",
    "import requests\n",
    "import io\n",
    "import pypdfium2 as pdfium\n",
    "text=[]\n",
    "\n",
    "r = requests.get(f'https://angelmatch-store.sfo3.digitaloceanspaces.com/pitch-decks/pdf/53.pdf')\n",
    "filestream = io.BytesIO(r.content)\n",
    "try:\n",
    "        text=[]\n",
    "        pdf = pdfium.PdfDocument(filestream)\n",
    "        for page in pdf:\n",
    "            textpage = page.get_textpage().get_text()\n",
    "            text.append(textpage)\n",
    "        text = \" \".join(\" \".join(text).split('\\n'))\n",
    "except Exception as e: print(e)\n",
    "\n",
    "# text=\" \".join(open('/Users/apsys/Downloads/startup-imperial/9cd3882116c9da4b2fdb13938a9a34ec.txt','r+').read().split('\\n'))\n",
    "text"
   ]
  },
  {
   "cell_type": "code",
   "execution_count": 297,
   "metadata": {},
   "outputs": [],
   "source": [
    "from transformers import AutoTokenizer\n",
    "import numpy as np\n",
    "tokenizer = AutoTokenizer.from_pretrained(\"bert-base-cased\")\n",
    "inputs = tokenizer(\n",
    "     \"Mid level, senior. Great, but not so much\", max_length=512, padding=\"max_length\", truncation=True,\n",
    ")\n",
    "\n",
    "feed = dict(\n",
    "    input_ids=np.array([inputs[\"input_ids\"]]).astype(\"int64\"),\n",
    "    token_type_ids=np.array([inputs['token_type_ids']]).astype(\"int64\"),\n",
    "    attention_mask=np.array([inputs[\"attention_mask\"]]).astype(\"int64\"),\n",
    ")"
   ]
  },
  {
   "cell_type": "code",
   "execution_count": 298,
   "metadata": {},
   "outputs": [
    {
     "data": {
      "text/plain": [
       "array([[ 0.40036502,  0.1452033 ,  0.04392549,  0.155462  ,  0.7573134 ,\n",
       "        -0.832991  ,  0.1582331 , -0.12531796, -0.25995803, -0.47400296]],\n",
       "      dtype=float32)"
      ]
     },
     "execution_count": 298,
     "metadata": {},
     "output_type": "execute_result"
    }
   ],
   "source": [
    "output = onnx_session.run(None, feed)\n",
    "(np.tanh(output[0]))"
   ]
  },
  {
   "cell_type": "code",
   "execution_count": 287,
   "metadata": {},
   "outputs": [],
   "source": [
    "def softmax(x):\n",
    "    return(np.exp(x)/np.exp(x).sum())"
   ]
  },
  {
   "cell_type": "code",
   "execution_count": 299,
   "metadata": {},
   "outputs": [],
   "source": [
    "predictions = np.squeeze(softmax(output[0]))\n",
    "arglist = np.argsort(np.sign(np.tanh(output[0]).mean())*(predictions))\n",
    "if np.sign(np.tanh(output[0]).mean())==-1.0:\n",
    "    arglist=arglist[1:]"
   ]
  },
  {
   "cell_type": "code",
   "execution_count": 300,
   "metadata": {},
   "outputs": [
    {
     "data": {
      "text/plain": [
       "array([0, 6, 3, 1, 2, 7, 8, 9, 5])"
      ]
     },
     "execution_count": 300,
     "metadata": {},
     "output_type": "execute_result"
    }
   ],
   "source": [
    "arglist"
   ]
  },
  {
   "cell_type": "code",
   "execution_count": 301,
   "metadata": {},
   "outputs": [],
   "source": [
    "labels = ['<100K$', '100-125K$', '125-150K$', '150-375K$', '375-500K$', '500-600K$', '0.6-1.1M$', '1.1-2M$', '2-6.5M$', '6.5M$>']\n",
    "preds=[labels[x] for x in arglist[0:3]]"
   ]
  },
  {
   "cell_type": "code",
   "execution_count": 302,
   "metadata": {},
   "outputs": [
    {
     "data": {
      "text/plain": [
       "['<100K$', '0.6-1.1M$', '150-375K$']"
      ]
     },
     "execution_count": 302,
     "metadata": {},
     "output_type": "execute_result"
    }
   ],
   "source": [
    "preds"
   ]
  }
 ],
 "metadata": {
  "kernelspec": {
   "display_name": ".venv",
   "language": "python",
   "name": "python3"
  },
  "language_info": {
   "codemirror_mode": {
    "name": "ipython",
    "version": 3
   },
   "file_extension": ".py",
   "mimetype": "text/x-python",
   "name": "python",
   "nbconvert_exporter": "python",
   "pygments_lexer": "ipython3",
   "version": "3.10.9"
  },
  "orig_nbformat": 4,
  "vscode": {
   "interpreter": {
    "hash": "3a9e8495d644770f64eff6121419e5fe8fee92ff9fcaf68deabf3ae80ea933e3"
   }
  }
 },
 "nbformat": 4,
 "nbformat_minor": 2
}
